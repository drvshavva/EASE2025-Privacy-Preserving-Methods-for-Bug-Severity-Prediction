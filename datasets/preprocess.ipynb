{
 "cells": [
  {
   "cell_type": "code",
   "execution_count": 43,
   "id": "initial_id",
   "metadata": {
    "collapsed": true,
    "ExecuteTime": {
     "end_time": "2025-03-14T22:23:00.878087Z",
     "start_time": "2025-03-14T22:23:00.873972400Z"
    }
   },
   "outputs": [],
   "source": [
    "import pandas as pd\n",
    "from sklearn.feature_selection import SelectKBest, f_classif\n",
    "from sklearn.preprocessing import PolynomialFeatures\n",
    "from sklearn.preprocessing import RobustScaler"
   ]
  },
  {
   "cell_type": "code",
   "execution_count": 44,
   "outputs": [],
   "source": [
    "TRAIN_COLS = ['lc', 'pi', 'ma', 'nbd', 'ml', 'd', 'mi', 'fo', 'r', 'e']\n",
    "k = 9\n",
    "degree = 3"
   ],
   "metadata": {
    "collapsed": false,
    "ExecuteTime": {
     "end_time": "2025-03-14T22:23:01.469755700Z",
     "start_time": "2025-03-14T22:23:01.460747600Z"
    }
   },
   "id": "32a758f6f861a3c2"
  },
  {
   "cell_type": "code",
   "execution_count": 45,
   "outputs": [],
   "source": [
    "train = pd.read_csv(\"data/train.csv\")\n",
    "x_train = train[TRAIN_COLS]\n",
    "y_train = train[\"label\"]"
   ],
   "metadata": {
    "collapsed": false,
    "ExecuteTime": {
     "end_time": "2025-03-14T22:23:01.929249300Z",
     "start_time": "2025-03-14T22:23:01.854442200Z"
    }
   },
   "id": "70240976db6d1306"
  },
  {
   "cell_type": "code",
   "execution_count": 46,
   "outputs": [],
   "source": [
    "test = pd.read_csv(\"data/test.csv\")\n",
    "x_test = test[TRAIN_COLS]\n",
    "y_test = test[\"label\"]"
   ],
   "metadata": {
    "collapsed": false,
    "ExecuteTime": {
     "end_time": "2025-03-14T22:23:02.612718800Z",
     "start_time": "2025-03-14T22:23:02.590513300Z"
    }
   },
   "id": "6b45a8a7a74a7820"
  },
  {
   "cell_type": "code",
   "execution_count": 47,
   "outputs": [],
   "source": [
    "scaler = RobustScaler()\n",
    "X_train_scaled = scaler.fit_transform(x_train)\n",
    "X_test_scaled = scaler.transform(x_test)"
   ],
   "metadata": {
    "collapsed": false,
    "ExecuteTime": {
     "end_time": "2025-03-14T22:23:03.063632800Z",
     "start_time": "2025-03-14T22:23:03.049634300Z"
    }
   },
   "id": "5b36398bbf209497"
  },
  {
   "cell_type": "code",
   "execution_count": 48,
   "outputs": [],
   "source": [
    "selector = SelectKBest(score_func=f_classif, k=k)\n",
    "X_train_selected = selector.fit_transform(X_train_scaled, y_train)\n",
    "X_test_selected = selector.transform(X_test_scaled)\n",
    "\n",
    "poly = PolynomialFeatures(degree=degree, interaction_only=True)\n",
    "X_train_poly = poly.fit_transform(X_train_selected)\n",
    "X_test_poly = poly.transform(X_test_selected)"
   ],
   "metadata": {
    "collapsed": false,
    "ExecuteTime": {
     "end_time": "2025-03-14T22:23:03.729793500Z",
     "start_time": "2025-03-14T22:23:03.702760700Z"
    }
   },
   "id": "9db088e129e6b00a"
  },
  {
   "cell_type": "code",
   "execution_count": 50,
   "outputs": [],
   "source": [
    "train_processed = pd.DataFrame(X_train_poly)\n",
    "test_processed = pd.DataFrame(X_test_poly)\n",
    "\n",
    "# Hedef değişkeni ekleme\n",
    "train_processed[\"label\"] = y_train.values\n",
    "test_processed[\"label\"] = y_test.values\n",
    "\n",
    "# CSV olarak kaydetme\n",
    "train_processed.to_csv(\"data/train_processed.csv\", index=False)\n",
    "test_processed.to_csv(\"data/test_processed.csv\", index=False)\n"
   ],
   "metadata": {
    "collapsed": false,
    "ExecuteTime": {
     "end_time": "2025-03-14T22:23:28.344171400Z",
     "start_time": "2025-03-14T22:23:28.300547800Z"
    }
   },
   "id": "7e13eedb4375ff11"
  },
  {
   "cell_type": "code",
   "execution_count": null,
   "outputs": [],
   "source": [],
   "metadata": {
    "collapsed": false
   },
   "id": "9587aba8b52dabb1"
  }
 ],
 "metadata": {
  "kernelspec": {
   "display_name": "Python 3",
   "language": "python",
   "name": "python3"
  },
  "language_info": {
   "codemirror_mode": {
    "name": "ipython",
    "version": 2
   },
   "file_extension": ".py",
   "mimetype": "text/x-python",
   "name": "python",
   "nbconvert_exporter": "python",
   "pygments_lexer": "ipython2",
   "version": "2.7.6"
  }
 },
 "nbformat": 4,
 "nbformat_minor": 5
}
