{
 "cells": [
  {
   "cell_type": "code",
   "execution_count": 1,
   "id": "initial_id",
   "metadata": {
    "collapsed": true,
    "ExecuteTime": {
     "end_time": "2025-03-09T06:18:44.787277500Z",
     "start_time": "2025-03-09T06:18:43.769372900Z"
    }
   },
   "outputs": [],
   "source": [
    "import pandas as pd\n",
    "from sklearn.model_selection import StratifiedKFold\n",
    "from xgboost import XGBClassifier\n",
    "\n",
    "from src.evalution import evaluate_result\n",
    "from src.logger import Logger"
   ]
  },
  {
   "cell_type": "code",
   "execution_count": 2,
   "outputs": [],
   "source": [
    "k = 9\n",
    "degree = 3\n",
    "n_splits = 5"
   ],
   "metadata": {
    "collapsed": false,
    "ExecuteTime": {
     "end_time": "2025-03-09T06:18:44.813789600Z",
     "start_time": "2025-03-09T06:18:44.787277500Z"
    }
   },
   "id": "650a419c322850a6"
  },
  {
   "cell_type": "code",
   "execution_count": 3,
   "outputs": [],
   "source": [
    "def get_client_data(client):\n",
    "    data_files = fr\"..\\..\\datasets\\iid\\client_{str(client)}.csv\"\n",
    "    dataset = pd.read_csv(data_files)\n",
    "\n",
    "    X = dataset.drop(columns=[\"label\"])\n",
    "    y = dataset[\"label\"]\n",
    "    return X, y"
   ],
   "metadata": {
    "collapsed": false,
    "ExecuteTime": {
     "end_time": "2025-03-09T06:18:44.862729800Z",
     "start_time": "2025-03-09T06:18:44.804358100Z"
    }
   },
   "id": "2898c703e5284dbd"
  },
  {
   "cell_type": "code",
   "execution_count": 4,
   "outputs": [],
   "source": [
    "from sklearn.linear_model import PassiveAggressiveClassifier, LogisticRegression\n",
    "from sklearn.svm import LinearSVC\n",
    "\n",
    "classifiers = {\n",
    "    \"SVM\": LinearSVC(\n",
    "        penalty=\"l2\",\n",
    "        loss=\"squared_hinge\",\n",
    "        dual=True,\n",
    "        C=0.5,\n",
    "        class_weight=\"balanced\",\n",
    "        max_iter=5000,\n",
    "        tol=1e-4,\n",
    "        random_state=42\n",
    "    ),\n",
    "    \"XGBoost\": XGBClassifier(objective=\"multi:softprob\",\n",
    "                             num_class=4,\n",
    "                             eval_metric=\"mlogloss\",\n",
    "                             num_parallel_tree=None,\n",
    "                             n_estimators=200,\n",
    "                             tree_method=\"hist\",\n",
    "                             random_state=42, ),\n",
    "    \"PassiveAggressive\": PassiveAggressiveClassifier(C=1.0,\n",
    "                                                     max_iter=1000,\n",
    "                                                     loss=\"hinge\",\n",
    "                                                     tol=1e-3,\n",
    "                                                     random_state=50),\n",
    "    \"LogisticRegression\": LogisticRegression(penalty=\"l2\",\n",
    "                                             C=0.1,\n",
    "                                             max_iter=1000,\n",
    "                                             solver=\"saga\",\n",
    "                                             multi_class=\"multinomial\",\n",
    "                                             random_state=42)\n",
    "}"
   ],
   "metadata": {
    "collapsed": false,
    "ExecuteTime": {
     "end_time": "2025-03-09T06:18:44.877814Z",
     "start_time": "2025-03-09T06:18:44.867812600Z"
    }
   },
   "id": "5322f26db366503b"
  },
  {
   "cell_type": "code",
   "execution_count": 5,
   "outputs": [],
   "source": [
    "from experiments.federated.utils import load_test_dataset\n",
    "\n",
    "model = classifiers['XGBoost']\n",
    "\n",
    "\n",
    "def save_client_result(client):\n",
    "    x_train, y_train = get_client_data(client)\n",
    "    x_test, y_test = load_test_dataset()\n",
    "    results = []\n",
    "    skf = StratifiedKFold(n_splits=n_splits, shuffle=True, random_state=42)\n",
    "\n",
    "    for fold, (train_idx, test_idx) in enumerate(skf.split(x_train, y_train), 1):\n",
    "        print(f\"Fold {fold}/{n_splits} işleniyor...\")\n",
    "\n",
    "        X_train_fold, X_test_fold = x_train.iloc[train_idx], x_train.iloc[test_idx]\n",
    "        y_train_fold, y_test_fold = y_train.iloc[train_idx], y_train.iloc[test_idx]\n",
    "\n",
    "        model.fit(X_train_fold, y_train_fold)\n",
    "\n",
    "        y_pred_poly = model.predict(x_test)\n",
    "        try:\n",
    "            y_prob_poly = model.predict_proba(x_test)\n",
    "        except:\n",
    "            y_prob_poly = None\n",
    "        eval_results_poly = evaluate_result(y_test, y_pred_poly, y_prob_poly)\n",
    "        eval_results_poly[\"Fold\"] = fold\n",
    "        results.append(eval_results_poly)\n",
    "\n",
    "    results_df = pd.DataFrame(results)\n",
    "    results_df.to_excel(f\"XGBoost_client_{str(client)}.xlsx\", index=False)"
   ],
   "metadata": {
    "collapsed": false,
    "ExecuteTime": {
     "end_time": "2025-03-09T06:18:46.675138Z",
     "start_time": "2025-03-09T06:18:44.881816400Z"
    }
   },
   "id": "f517bf19c4432b82"
  },
  {
   "cell_type": "code",
   "execution_count": 6,
   "outputs": [
    {
     "name": "stdout",
     "output_type": "stream",
     "text": [
      "Fold 1/5 işleniyor...\n",
      "Fold 2/5 işleniyor...\n",
      "Fold 3/5 işleniyor...\n",
      "Fold 4/5 işleniyor...\n",
      "Fold 5/5 işleniyor...\n",
      "Fold 1/5 işleniyor...\n",
      "Fold 2/5 işleniyor...\n",
      "Fold 3/5 işleniyor...\n",
      "Fold 4/5 işleniyor...\n",
      "Fold 5/5 işleniyor...\n",
      "Fold 1/5 işleniyor...\n",
      "Fold 2/5 işleniyor...\n",
      "Fold 3/5 işleniyor...\n",
      "Fold 4/5 işleniyor...\n",
      "Fold 5/5 işleniyor...\n"
     ]
    }
   ],
   "source": [
    "for i in range(3):\n",
    "    save_client_result(i)"
   ],
   "metadata": {
    "collapsed": false,
    "ExecuteTime": {
     "end_time": "2025-03-09T06:19:24.213316100Z",
     "start_time": "2025-03-09T06:18:46.677996400Z"
    }
   },
   "id": "4afe833c773bd15a"
  },
  {
   "cell_type": "code",
   "execution_count": 6,
   "outputs": [],
   "source": [],
   "metadata": {
    "collapsed": false,
    "ExecuteTime": {
     "end_time": "2025-03-09T06:19:24.228523100Z",
     "start_time": "2025-03-09T06:19:24.215316300Z"
    }
   },
   "id": "4b67e2136bfc02d3"
  }
 ],
 "metadata": {
  "kernelspec": {
   "display_name": "Python 3",
   "language": "python",
   "name": "python3"
  },
  "language_info": {
   "codemirror_mode": {
    "name": "ipython",
    "version": 2
   },
   "file_extension": ".py",
   "mimetype": "text/x-python",
   "name": "python",
   "nbconvert_exporter": "python",
   "pygments_lexer": "ipython2",
   "version": "2.7.6"
  }
 },
 "nbformat": 4,
 "nbformat_minor": 5
}
