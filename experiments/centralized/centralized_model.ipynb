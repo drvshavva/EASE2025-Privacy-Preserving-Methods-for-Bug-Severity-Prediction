{
 "cells": [
  {
   "cell_type": "code",
   "execution_count": 1,
   "id": "initial_id",
   "metadata": {
    "collapsed": true,
    "ExecuteTime": {
     "end_time": "2025-03-15T06:30:46.306300300Z",
     "start_time": "2025-03-15T06:30:45.158616500Z"
    }
   },
   "outputs": [],
   "source": [
    "import pandas as pd\n",
    "from sklearn.feature_selection import SelectKBest, f_classif\n",
    "from sklearn.preprocessing import RobustScaler\n",
    "from xgboost import XGBClassifier\n",
    "\n",
    "from src.evalution import evaluate_result"
   ]
  },
  {
   "cell_type": "code",
   "execution_count": 2,
   "outputs": [],
   "source": [
    "UNIQUE_LABELS = [0, 1, 2, 3]\n",
    "FEATURES = ['project_name', 'project_version', 'label', 'code', 'code_comment',\n",
    "            'code_no_comment', 'lc', 'pi', 'ma', 'nbd', 'ml', 'd', 'mi', 'fo', 'r',\n",
    "            'e']\n",
    "TRAIN_COLS = ['lc', 'pi', 'ma', 'nbd', 'ml', 'd', 'mi', 'fo', 'r', 'e']"
   ],
   "metadata": {
    "collapsed": false,
    "ExecuteTime": {
     "end_time": "2025-03-15T06:30:46.321814400Z",
     "start_time": "2025-03-15T06:30:46.310300300Z"
    }
   },
   "id": "5e399bb880c718bf"
  },
  {
   "cell_type": "code",
   "execution_count": 3,
   "outputs": [],
   "source": [
    "train = pd.read_csv(\"../../datasets/data/train.csv\")\n",
    "x_train = train[TRAIN_COLS]\n",
    "y_train = train[\"label\"]"
   ],
   "metadata": {
    "collapsed": false,
    "ExecuteTime": {
     "end_time": "2025-03-15T06:30:46.428401100Z",
     "start_time": "2025-03-15T06:30:46.323820600Z"
    }
   },
   "id": "2b9feb1c99d07de5"
  },
  {
   "cell_type": "code",
   "execution_count": 4,
   "outputs": [],
   "source": [
    "test = pd.read_csv(\"../../datasets/data/test.csv\")\n",
    "x_test = test[TRAIN_COLS]\n",
    "y_test = test[\"label\"]"
   ],
   "metadata": {
    "collapsed": false,
    "ExecuteTime": {
     "end_time": "2025-03-15T06:30:46.458905100Z",
     "start_time": "2025-03-15T06:30:46.431545200Z"
    }
   },
   "id": "2f797f5c39229fc5"
  },
  {
   "cell_type": "code",
   "execution_count": 5,
   "outputs": [
    {
     "name": "stdout",
     "output_type": "stream",
     "text": [
      "Fold 1/5 işleniyor...\n",
      "{'eval_f1': 0.552554579400366, 'eval_f1_class1': 0.30303030303030304, 'eval_f1_class2': 0.74235807860262, 'eval_f1_class3': 0.2857142857142857, 'eval_f1_class4': 0.27586206896551724, 'eval_acc': 0.5976095617529881, 'eval_precision': 0.5541157645997129, 'eval_recall': 0.5976095617529881, 'eval_ROC-UAC': 0.6424106054093096, 'eval_mcc': 0.22081759544303117, 'eval_cohen_kappa_score': 0.20332484837057296, 'eval_gmean': 0.5909605026939689}\n",
      "Fold 2/5 işleniyor...\n",
      "{'eval_f1': 0.5372404942137208, 'eval_f1_class1': 0.3283582089552239, 'eval_f1_class2': 0.7244318181818182, 'eval_f1_class3': 0.2153846153846154, 'eval_f1_class4': 0.27380952380952384, 'eval_acc': 0.5896414342629482, 'eval_precision': 0.5492488244491708, 'eval_recall': 0.5896414342629482, 'eval_ROC-UAC': 0.6501214592627739, 'eval_mcc': 0.18415145485270376, 'eval_cohen_kappa_score': 0.16260840695424028, 'eval_gmean': 0.5648481605756623}\n",
      "Fold 3/5 işleniyor...\n",
      "{'eval_f1': 0.5559040941125115, 'eval_f1_class1': 0.2857142857142857, 'eval_f1_class2': 0.7277936962750716, 'eval_f1_class3': 0.30985915492957744, 'eval_f1_class4': 0.32558139534883723, 'eval_acc': 0.601593625498008, 'eval_precision': 0.5734317221944504, 'eval_recall': 0.601593625498008, 'eval_ROC-UAC': 0.6383378159793559, 'eval_mcc': 0.21710042206815197, 'eval_cohen_kappa_score': 0.1948999639148391, 'eval_gmean': 0.5782148872218325}\n",
      "Fold 4/5 işleniyor...\n",
      "{'eval_f1': 0.5391939883273403, 'eval_f1_class1': 0.25396825396825395, 'eval_f1_class2': 0.7293447293447294, 'eval_f1_class3': 0.23880597014925373, 'eval_f1_class4': 0.29069767441860467, 'eval_acc': 0.5916334661354582, 'eval_precision': 0.5499252400065477, 'eval_recall': 0.5916334661354582, 'eval_ROC-UAC': 0.6285678506775909, 'eval_mcc': 0.1893732615143435, 'eval_cohen_kappa_score': 0.16820911567155128, 'eval_gmean': 0.5695974619380682}\n",
      "Fold 5/5 işleniyor...\n",
      "{'eval_f1': 0.5482130899196396, 'eval_f1_class1': 0.30303030303030304, 'eval_f1_class2': 0.7381974248927039, 'eval_f1_class3': 0.18461538461538463, 'eval_f1_class4': 0.3103448275862069, 'eval_acc': 0.599601593625498, 'eval_precision': 0.5557436273055044, 'eval_recall': 0.599601593625498, 'eval_ROC-UAC': 0.6556366616888728, 'eval_mcc': 0.21042546525705577, 'eval_cohen_kappa_score': 0.18844706109448894, 'eval_gmean': 0.5806279705863717}\n"
     ]
    }
   ],
   "source": [
    "from sklearn.model_selection import StratifiedKFold\n",
    "from sklearn.preprocessing import PolynomialFeatures\n",
    "\n",
    "# Parametreler\n",
    "k = 9\n",
    "degree = 3\n",
    "n_splits = 5\n",
    "\n",
    "results = []\n",
    "\n",
    "skf = StratifiedKFold(n_splits=n_splits, shuffle=True, random_state=42)\n",
    "\n",
    "for fold, (train_idx, test_idx) in enumerate(skf.split(x_train, y_train), 1):\n",
    "    print(f\"Fold {fold}/{n_splits} işleniyor...\")\n",
    "\n",
    "    X_train_fold, X_test_fold = x_train.iloc[train_idx], x_train.iloc[test_idx]\n",
    "    y_train_fold, y_test_fold = y_train.iloc[train_idx], y_train.iloc[test_idx]\n",
    "\n",
    "    scaler = RobustScaler()\n",
    "    X_train_scaled = scaler.fit_transform(X_train_fold)\n",
    "    X_test_scaled = scaler.transform(x_test)\n",
    "\n",
    "    selector = SelectKBest(score_func=f_classif, k=k)\n",
    "    X_train_selected = selector.fit_transform(X_train_scaled, y_train_fold)\n",
    "    X_test_selected = selector.transform(X_test_scaled)\n",
    "\n",
    "    poly = PolynomialFeatures(degree=degree, interaction_only=True)\n",
    "    X_train_poly = poly.fit_transform(X_train_selected)\n",
    "    X_test_poly = poly.transform(X_test_selected)\n",
    "\n",
    "    model_poly = XGBClassifier(objective=\"multi:softprob\",\n",
    "                               num_class=4,\n",
    "                               eval_metric=\"mlogloss\",\n",
    "                               num_parallel_tree=None,\n",
    "                               n_estimators=200,\n",
    "                               tree_method=\"hist\",\n",
    "                               random_state=42, )\n",
    "    model_poly.fit(X_train_poly, y_train_fold)\n",
    "\n",
    "    y_pred_poly = model_poly.predict(X_test_poly)\n",
    "    y_prob_poly = model_poly.predict_proba(X_test_poly)\n",
    "\n",
    "    eval_results_poly = evaluate_result(y_test, y_pred_poly, y_prob_poly)\n",
    "    print(eval_results_poly)\n",
    "    eval_results_poly[\"Fold\"] = fold\n",
    "    results.append(eval_results_poly)\n",
    "\n",
    "results_df = pd.DataFrame(results)\n",
    "results_df.to_excel(\"xgboost_results.xlsx\", index=False)"
   ],
   "metadata": {
    "collapsed": false,
    "ExecuteTime": {
     "end_time": "2025-03-15T06:30:59.594791600Z",
     "start_time": "2025-03-15T06:30:46.467664200Z"
    }
   },
   "id": "c75dd5dc60c0bcc4"
  },
  {
   "cell_type": "code",
   "execution_count": 5,
   "outputs": [],
   "source": [],
   "metadata": {
    "collapsed": false,
    "ExecuteTime": {
     "end_time": "2025-03-15T06:30:59.609905200Z",
     "start_time": "2025-03-15T06:30:59.596790700Z"
    }
   },
   "id": "296d55634ddae378"
  }
 ],
 "metadata": {
  "kernelspec": {
   "display_name": "Python 3",
   "language": "python",
   "name": "python3"
  },
  "language_info": {
   "codemirror_mode": {
    "name": "ipython",
    "version": 2
   },
   "file_extension": ".py",
   "mimetype": "text/x-python",
   "name": "python",
   "nbconvert_exporter": "python",
   "pygments_lexer": "ipython2",
   "version": "2.7.6"
  }
 },
 "nbformat": 4,
 "nbformat_minor": 5
}
