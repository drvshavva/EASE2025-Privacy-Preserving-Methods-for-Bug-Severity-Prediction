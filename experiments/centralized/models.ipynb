{
 "cells": [
  {
   "cell_type": "code",
   "execution_count": 1,
   "id": "initial_id",
   "metadata": {
    "collapsed": true,
    "ExecuteTime": {
     "end_time": "2025-03-15T13:06:25.420086Z",
     "start_time": "2025-03-15T13:06:24.134987200Z"
    }
   },
   "outputs": [],
   "source": [
    "import pandas as pd\n",
    "from xgboost import XGBClassifier"
   ]
  },
  {
   "cell_type": "code",
   "execution_count": 4,
   "outputs": [],
   "source": [
    "\n",
    "train = \"../../datasets/data/train_processed.csv\"\n",
    "\n",
    "k = 9\n",
    "degree = 3\n",
    "n_splits = 5"
   ],
   "metadata": {
    "collapsed": false,
    "ExecuteTime": {
     "end_time": "2025-03-15T13:07:29.046589800Z",
     "start_time": "2025-03-15T13:07:29.030047Z"
    }
   },
   "id": "915a8117c990e83"
  },
  {
   "cell_type": "code",
   "execution_count": 5,
   "outputs": [],
   "source": [
    "from experiments.federated.utils import load_test_dataset\n",
    "\n",
    "train_df = pd.read_csv(train)\n",
    "x_train = train_df.drop(columns=[\"label\"])\n",
    "y_train = train_df[\"label\"]\n",
    "\n",
    "x_test, y_test = load_test_dataset()"
   ],
   "metadata": {
    "collapsed": false,
    "ExecuteTime": {
     "end_time": "2025-03-15T13:07:30.071769400Z",
     "start_time": "2025-03-15T13:07:29.435392600Z"
    }
   },
   "id": "9e93725eb8675e66"
  },
  {
   "cell_type": "code",
   "execution_count": 6,
   "outputs": [],
   "source": [
    "from sklearn.linear_model import PassiveAggressiveClassifier\n",
    "from sklearn.svm import LinearSVC\n",
    "\n",
    "classifiers = {\n",
    "    \"SVM\": LinearSVC(\n",
    "        penalty=\"l2\",\n",
    "        loss=\"squared_hinge\",\n",
    "        dual=True,\n",
    "        C=0.5,\n",
    "        class_weight=\"balanced\",\n",
    "        max_iter=5000,\n",
    "        tol=1e-4,\n",
    "        random_state=42\n",
    "    ),\n",
    "    \"XGBoost\": XGBClassifier(objective=\"multi:softprob\",\n",
    "                             num_class=4,\n",
    "                             eval_metric=\"mlogloss\",\n",
    "                             num_parallel_tree=None,\n",
    "                             n_estimators=200,\n",
    "                             tree_method=\"hist\",\n",
    "                             random_state=42, ),\n",
    "    \"PassiveAggressive\": PassiveAggressiveClassifier(C=1.0,\n",
    "                                                     max_iter=1000,\n",
    "                                                     loss=\"hinge\",\n",
    "                                                     tol=1e-3,\n",
    "                                                     random_state=50),\n",
    "}"
   ],
   "metadata": {
    "collapsed": false,
    "ExecuteTime": {
     "end_time": "2025-03-15T13:07:30.518870400Z",
     "start_time": "2025-03-15T13:07:30.468776500Z"
    }
   },
   "id": "3973c72365982516"
  },
  {
   "cell_type": "code",
   "execution_count": 7,
   "outputs": [],
   "source": [
    "from src.evalution import evaluate_result\n",
    "from sklearn.model_selection import StratifiedKFold\n",
    "\n",
    "\n",
    "def save_model_result(model, name):\n",
    "    results = []\n",
    "    skf = StratifiedKFold(n_splits=n_splits, shuffle=True, random_state=42)\n",
    "\n",
    "    for fold, (train_idx, test_idx) in enumerate(skf.split(x_train, y_train), 1):\n",
    "        print(f\"Fold {fold}/{n_splits} işleniyor...\")\n",
    "\n",
    "        X_train_fold, X_test_fold = x_train.iloc[train_idx], x_train.iloc[test_idx]\n",
    "        y_train_fold, y_test_fold = y_train.iloc[train_idx], y_train.iloc[test_idx]\n",
    "\n",
    "        model.fit(X_train_fold, y_train_fold)\n",
    "\n",
    "        y_pred_poly = model.predict(x_test)\n",
    "        try:\n",
    "            y_prob_poly = model.predict_proba(x_test)\n",
    "        except:\n",
    "            y_prob_poly = None\n",
    "        eval_results_poly = evaluate_result(y_test, y_pred_poly, y_prob_poly)\n",
    "        eval_results_poly[\"Fold\"] = fold\n",
    "        results.append(eval_results_poly)\n",
    "\n",
    "    results_df = pd.DataFrame(results)\n",
    "    results_df.to_excel(f\"{name}.xlsx\", index=False)"
   ],
   "metadata": {
    "collapsed": false,
    "ExecuteTime": {
     "end_time": "2025-03-15T13:07:31.087173700Z",
     "start_time": "2025-03-15T13:07:30.910166700Z"
    }
   },
   "id": "47ce3941a9d0a41f"
  },
  {
   "cell_type": "code",
   "execution_count": 8,
   "outputs": [
    {
     "name": "stdout",
     "output_type": "stream",
     "text": [
      "Fold 1/5 işleniyor...\n"
     ]
    },
    {
     "name": "stderr",
     "output_type": "stream",
     "text": [
      "C:\\Users\\b3lab\\miniconda3\\envs\\Flower\\lib\\site-packages\\sklearn\\svm\\_base.py:1249: ConvergenceWarning: Liblinear failed to converge, increase the number of iterations.\n",
      "  warnings.warn(\n"
     ]
    },
    {
     "name": "stdout",
     "output_type": "stream",
     "text": [
      "Fold 2/5 işleniyor...\n"
     ]
    },
    {
     "name": "stderr",
     "output_type": "stream",
     "text": [
      "C:\\Users\\b3lab\\miniconda3\\envs\\Flower\\lib\\site-packages\\sklearn\\svm\\_base.py:1249: ConvergenceWarning: Liblinear failed to converge, increase the number of iterations.\n",
      "  warnings.warn(\n"
     ]
    },
    {
     "name": "stdout",
     "output_type": "stream",
     "text": [
      "Fold 3/5 işleniyor...\n"
     ]
    },
    {
     "name": "stderr",
     "output_type": "stream",
     "text": [
      "C:\\Users\\b3lab\\miniconda3\\envs\\Flower\\lib\\site-packages\\sklearn\\svm\\_base.py:1249: ConvergenceWarning: Liblinear failed to converge, increase the number of iterations.\n",
      "  warnings.warn(\n"
     ]
    },
    {
     "name": "stdout",
     "output_type": "stream",
     "text": [
      "Fold 4/5 işleniyor...\n"
     ]
    },
    {
     "name": "stderr",
     "output_type": "stream",
     "text": [
      "C:\\Users\\b3lab\\miniconda3\\envs\\Flower\\lib\\site-packages\\sklearn\\svm\\_base.py:1249: ConvergenceWarning: Liblinear failed to converge, increase the number of iterations.\n",
      "  warnings.warn(\n"
     ]
    },
    {
     "name": "stdout",
     "output_type": "stream",
     "text": [
      "Fold 5/5 işleniyor...\n"
     ]
    },
    {
     "name": "stderr",
     "output_type": "stream",
     "text": [
      "C:\\Users\\b3lab\\miniconda3\\envs\\Flower\\lib\\site-packages\\sklearn\\svm\\_base.py:1249: ConvergenceWarning: Liblinear failed to converge, increase the number of iterations.\n",
      "  warnings.warn(\n"
     ]
    },
    {
     "name": "stdout",
     "output_type": "stream",
     "text": [
      "Fold 1/5 işleniyor...\n",
      "Fold 2/5 işleniyor...\n",
      "Fold 3/5 işleniyor...\n",
      "Fold 4/5 işleniyor...\n",
      "Fold 5/5 işleniyor...\n",
      "Fold 1/5 işleniyor...\n",
      "Fold 2/5 işleniyor...\n",
      "Fold 3/5 işleniyor...\n",
      "Fold 4/5 işleniyor...\n",
      "Fold 5/5 işleniyor...\n"
     ]
    }
   ],
   "source": [
    "for classifier_name, classifier in classifiers.items():\n",
    "    save_model_result(classifier, classifier_name)"
   ],
   "metadata": {
    "collapsed": false,
    "ExecuteTime": {
     "end_time": "2025-03-15T13:08:29.652690300Z",
     "start_time": "2025-03-15T13:07:33.319195900Z"
    }
   },
   "id": "972a633511e62df2"
  },
  {
   "cell_type": "code",
   "execution_count": null,
   "outputs": [],
   "source": [],
   "metadata": {
    "collapsed": false
   },
   "id": "dc6dceff42a6a355"
  }
 ],
 "metadata": {
  "kernelspec": {
   "display_name": "Python 3",
   "language": "python",
   "name": "python3"
  },
  "language_info": {
   "codemirror_mode": {
    "name": "ipython",
    "version": 2
   },
   "file_extension": ".py",
   "mimetype": "text/x-python",
   "name": "python",
   "nbconvert_exporter": "python",
   "pygments_lexer": "ipython2",
   "version": "2.7.6"
  }
 },
 "nbformat": 4,
 "nbformat_minor": 5
}
