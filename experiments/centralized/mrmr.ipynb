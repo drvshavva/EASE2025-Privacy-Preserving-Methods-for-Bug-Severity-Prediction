{
 "cells": [
  {
   "cell_type": "code",
   "execution_count": 26,
   "id": "initial_id",
   "metadata": {
    "collapsed": true,
    "ExecuteTime": {
     "end_time": "2025-03-02T16:51:12.508775Z",
     "start_time": "2025-03-02T16:51:12.455228Z"
    }
   },
   "outputs": [],
   "source": [
    "import pandas as pd\n",
    "from src.evalution import evaluate_result"
   ]
  },
  {
   "cell_type": "code",
   "execution_count": 27,
   "outputs": [],
   "source": [
    "UNIQUE_LABELS = [0, 1, 2, 3]\n",
    "FEATURES = ['project_name', 'project_version', 'label', 'code', 'code_comment',\n",
    "            'code_no_comment', 'lc', 'pi', 'ma', 'nbd', 'ml', 'd', 'mi', 'fo', 'r',\n",
    "            'e']\n",
    "TRAIN_COLS = ['lc', 'pi', 'ma', 'nbd', 'ml', 'd', 'mi', 'fo', 'r', 'e']"
   ],
   "metadata": {
    "collapsed": false,
    "ExecuteTime": {
     "end_time": "2025-03-02T16:51:12.509776500Z",
     "start_time": "2025-03-02T16:51:12.476234600Z"
    }
   },
   "id": "5e399bb880c718bf"
  },
  {
   "cell_type": "code",
   "execution_count": 28,
   "outputs": [],
   "source": [
    "train = pd.read_csv(\"../../datasets/data/train.csv\")\n",
    "x_train = train[TRAIN_COLS]\n",
    "y_train = train[\"label\"]"
   ],
   "metadata": {
    "collapsed": false,
    "ExecuteTime": {
     "end_time": "2025-03-02T16:51:12.572207Z",
     "start_time": "2025-03-02T16:51:12.489775800Z"
    }
   },
   "id": "2b9feb1c99d07de5"
  },
  {
   "cell_type": "code",
   "execution_count": 29,
   "outputs": [],
   "source": [
    "test = pd.read_csv(\"../../datasets/data/test.csv\")\n",
    "x_test = test[TRAIN_COLS]\n",
    "y_test = test[\"label\"]"
   ],
   "metadata": {
    "collapsed": false,
    "ExecuteTime": {
     "end_time": "2025-03-02T16:51:12.609032200Z",
     "start_time": "2025-03-02T16:51:12.565150400Z"
    }
   },
   "id": "2f797f5c39229fc5"
  },
  {
   "cell_type": "code",
   "execution_count": 30,
   "outputs": [
    {
     "name": "stdout",
     "output_type": "stream",
     "text": [
      "Fold 1/5 işleniyor...\n"
     ]
    },
    {
     "name": "stderr",
     "output_type": "stream",
     "text": [
      "100%|██████████| 5/5 [00:00<00:00, 12.81it/s]\n"
     ]
    },
    {
     "name": "stdout",
     "output_type": "stream",
     "text": [
      "Fold 2/5 işleniyor...\n"
     ]
    },
    {
     "name": "stderr",
     "output_type": "stream",
     "text": [
      "100%|██████████| 5/5 [00:00<00:00,  5.56it/s]\n"
     ]
    },
    {
     "name": "stdout",
     "output_type": "stream",
     "text": [
      "Fold 3/5 işleniyor...\n"
     ]
    },
    {
     "name": "stderr",
     "output_type": "stream",
     "text": [
      "100%|██████████| 5/5 [00:00<00:00,  6.86it/s]\n"
     ]
    },
    {
     "name": "stdout",
     "output_type": "stream",
     "text": [
      "Fold 4/5 işleniyor...\n"
     ]
    },
    {
     "name": "stderr",
     "output_type": "stream",
     "text": [
      "100%|██████████| 5/5 [00:00<00:00,  7.56it/s]\n"
     ]
    },
    {
     "name": "stdout",
     "output_type": "stream",
     "text": [
      "Fold 5/5 işleniyor...\n"
     ]
    },
    {
     "name": "stderr",
     "output_type": "stream",
     "text": [
      "100%|██████████| 5/5 [00:00<00:00,  7.48it/s]\n"
     ]
    }
   ],
   "source": [
    "from sklearn.model_selection import StratifiedKFold\n",
    "from sklearn.preprocessing import RobustScaler, PolynomialFeatures\n",
    "from mrmr import mrmr_classif\n",
    "from xgboost import XGBClassifier\n",
    "\n",
    "# Parametreler\n",
    "k = 5\n",
    "degree = 3\n",
    "n_splits = 5\n",
    "\n",
    "results = []\n",
    "\n",
    "skf = StratifiedKFold(n_splits=n_splits, shuffle=True, random_state=42)\n",
    "\n",
    "for fold, (train_idx, test_idx) in enumerate(skf.split(x_train, y_train), 1):\n",
    "    print(f\"Fold {fold}/{n_splits} işleniyor...\")\n",
    "\n",
    "    X_train_fold, X_test_fold = x_train.iloc[train_idx], x_train.iloc[test_idx]\n",
    "    y_train_fold, y_test_fold = y_train.iloc[train_idx], y_train.iloc[test_idx]\n",
    "\n",
    "    scaler = RobustScaler()\n",
    "    X_train_scaled = scaler.fit_transform(X_train_fold)\n",
    "    X_test_scaled = scaler.transform(x_test)\n",
    "\n",
    "    X_train_scaled_df = pd.DataFrame(X_train_scaled, columns=x_train.columns, index=X_train_fold.index)\n",
    "    X_test_scaled_df = pd.DataFrame(X_test_scaled, columns=x_train.columns, index=x_test.index)\n",
    "\n",
    "    X_train_scaled_df.reset_index(drop=True, inplace=True)\n",
    "    y_train_fold.reset_index(drop=True, inplace=True)\n",
    "\n",
    "    selected_features = mrmr_classif(X_train_scaled_df, y_train_fold, K=k)\n",
    "\n",
    "    X_train_selected = X_train_scaled_df[selected_features]\n",
    "    X_test_selected = X_test_scaled_df[selected_features]\n",
    "\n",
    "    poly = PolynomialFeatures(degree=degree, interaction_only=True)\n",
    "    X_train_poly = poly.fit_transform(X_train_selected)\n",
    "    X_test_poly = poly.transform(X_test_selected)\n",
    "\n",
    "    model_poly = XGBClassifier(objective=\"multi:softprob\",\n",
    "                               num_class=4,\n",
    "                               eval_metric=\"mlogloss\",\n",
    "                               n_estimators=200,\n",
    "                               tree_method=\"hist\",\n",
    "                               random_state=42)\n",
    "    model_poly.fit(X_train_poly, y_train_fold)\n",
    "\n",
    "    y_pred_poly = model_poly.predict(X_test_poly)\n",
    "    y_prob_poly = model_poly.predict_proba(X_test_poly)\n",
    "\n",
    "    eval_results_poly = evaluate_result(y_test, y_pred_poly, y_prob_poly)\n",
    "    eval_results_poly[\"Fold\"] = fold\n",
    "    results.append(eval_results_poly)\n",
    "\n",
    "results_df = pd.DataFrame(results)\n",
    "results_df.to_excel(\"mrmr.xlsx\", index=False)"
   ],
   "metadata": {
    "collapsed": false,
    "ExecuteTime": {
     "end_time": "2025-03-02T16:51:26.827732700Z",
     "start_time": "2025-03-02T16:51:12.603032100Z"
    }
   },
   "id": "c75dd5dc60c0bcc4"
  }
 ],
 "metadata": {
  "kernelspec": {
   "display_name": "Python 3",
   "language": "python",
   "name": "python3"
  },
  "language_info": {
   "codemirror_mode": {
    "name": "ipython",
    "version": 2
   },
   "file_extension": ".py",
   "mimetype": "text/x-python",
   "name": "python",
   "nbconvert_exporter": "python",
   "pygments_lexer": "ipython2",
   "version": "2.7.6"
  }
 },
 "nbformat": 4,
 "nbformat_minor": 5
}
