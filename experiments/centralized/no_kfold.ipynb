{
 "cells": [
  {
   "cell_type": "code",
   "execution_count": 8,
   "id": "initial_id",
   "metadata": {
    "collapsed": true,
    "ExecuteTime": {
     "end_time": "2025-03-09T06:45:54.829075600Z",
     "start_time": "2025-03-09T06:45:54.789938700Z"
    }
   },
   "outputs": [],
   "source": [
    "import numpy as np\n",
    "import pandas as pd\n",
    "from sklearn.ensemble import RandomForestClassifier\n",
    "from sklearn.feature_selection import SelectFromModel\n",
    "from sklearn.feature_selection import SelectKBest, f_classif, mutual_info_classif, RFE, VarianceThreshold\n",
    "from sklearn.preprocessing import RobustScaler\n",
    "from sklearn.preprocessing import StandardScaler, MinMaxScaler, MaxAbsScaler\n",
    "\n",
    "\n",
    "from src.evalution import evaluatelog_result\n",
    "from src.logger import Logger"
   ]
  },
  {
   "cell_type": "code",
   "execution_count": 9,
   "outputs": [],
   "source": [
    "logger = Logger(log_filename=\"metrics.txt\")\n",
    "\n",
    "UNIQUE_LABELS = [0, 1, 2, 3]\n",
    "FEATURES = ['project_name', 'project_version', 'label', 'code', 'code_comment',\n",
    "            'code_no_comment', 'lc', 'pi', 'ma', 'nbd', 'ml', 'd', 'mi', 'fo', 'r',\n",
    "            'e']\n",
    "TRAIN_COLS = ['lc', 'pi', 'ma', 'nbd', 'ml', 'd', 'mi', 'fo', 'r', 'e']"
   ],
   "metadata": {
    "collapsed": false,
    "ExecuteTime": {
     "end_time": "2025-03-09T06:45:54.830079200Z",
     "start_time": "2025-03-09T06:45:54.806086300Z"
    }
   },
   "id": "ed99503462d842cd"
  },
  {
   "cell_type": "code",
   "execution_count": 10,
   "outputs": [],
   "source": [
    "train = pd.read_csv(\"../../datasets/data/train.csv\")\n",
    "x_train = train[TRAIN_COLS]\n",
    "y_train = train[\"label\"]"
   ],
   "metadata": {
    "collapsed": false,
    "ExecuteTime": {
     "end_time": "2025-03-09T06:45:54.894036500Z",
     "start_time": "2025-03-09T06:45:54.822073700Z"
    }
   },
   "id": "13a13863bcc73642"
  },
  {
   "cell_type": "code",
   "execution_count": 11,
   "outputs": [],
   "source": [
    "test = pd.read_csv(\"../../datasets/data/test.csv\")\n",
    "x_test = test[TRAIN_COLS]\n",
    "y_test = test[\"label\"]"
   ],
   "metadata": {
    "collapsed": false,
    "ExecuteTime": {
     "end_time": "2025-03-09T06:45:54.926571100Z",
     "start_time": "2025-03-09T06:45:54.897035Z"
    }
   },
   "id": "903ca6a23fb93c1a"
  },
  {
   "cell_type": "code",
   "execution_count": 12,
   "outputs": [],
   "source": [
    "max_features = min(x_train.shape[1], 9)\n",
    "\n",
    "\n",
    "def correlation_feature_selection(X, y, threshold=0.8):\n",
    "    corr_matrix = np.corrcoef(X, rowvar=False)\n",
    "    selected_features = []\n",
    "    for i in range(len(corr_matrix)):\n",
    "        if not any(abs(corr_matrix[i][j]) > threshold for j in selected_features):\n",
    "            selected_features.append(i)\n",
    "    return np.array(selected_features[:max_features])"
   ],
   "metadata": {
    "collapsed": false,
    "ExecuteTime": {
     "end_time": "2025-03-09T06:45:54.940564400Z",
     "start_time": "2025-03-09T06:45:54.929560200Z"
    }
   },
   "id": "d67832c61251302c"
  },
  {
   "cell_type": "code",
   "execution_count": 13,
   "outputs": [],
   "source": [
    "from sklearn.linear_model import LogisticRegression\n",
    "from sklearn.svm import LinearSVC\n",
    "\n",
    "scalers = {\n",
    "    \"StandardScaler\": StandardScaler(),\n",
    "    \"MinMaxScaler\": MinMaxScaler(),\n",
    "    \"MaxAbsScaler\": MaxAbsScaler(),\n",
    "    \"RobustScaler\": RobustScaler()\n",
    "}\n",
    "\n",
    "feature_selectors = {\n",
    "    \"SelectKBest_f_classif\": SelectKBest(score_func=f_classif, k=max_features),\n",
    "    \"SelectKBest_mutual_info\": SelectKBest(score_func=mutual_info_classif, k=max_features),\n",
    "    \"TreeBased_RandomForest\": RandomForestClassifier(n_estimators=100, random_state=42),\n",
    "    \"RFE_LogisticRegression\": RFE(estimator=LogisticRegression(max_iter=1000, random_state=42),\n",
    "                                  n_features_to_select=max_features),\n",
    "    \"VarianceThreshold\": VarianceThreshold(threshold=0.01),\n",
    "    \"L1Based_Logistic\": SelectFromModel(LinearSVC(C=0.01, penalty='l1', dual=False, max_iter=1000, random_state=42)),\n",
    "    \"CorrelationBased\": correlation_feature_selection\n",
    "}\n",
    "\n",
    "classifiers = {\n",
    "    \"RandomForest\": RandomForestClassifier(),\n",
    "}\n"
   ],
   "metadata": {
    "collapsed": false,
    "ExecuteTime": {
     "end_time": "2025-03-09T06:45:54.962559200Z",
     "start_time": "2025-03-09T06:45:54.942563900Z"
    }
   },
   "id": "e4b3d8c173e75546"
  },
  {
   "cell_type": "code",
   "execution_count": 14,
   "outputs": [],
   "source": [
    "from sklearn.preprocessing import PolynomialFeatures\n",
    "\n",
    "results = []\n",
    "\n",
    "for scaler_name, scaler in scalers.items():\n",
    "    # Veriyi ölçeklendir\n",
    "    X_train_scaled = scaler.fit_transform(x_train)\n",
    "    X_test_scaled = scaler.transform(x_test)\n",
    "\n",
    "    for selector_name, selector in feature_selectors.items():\n",
    "        if isinstance(selector, (SelectKBest, RFE, VarianceThreshold, SelectFromModel)):\n",
    "            X_train_selected = selector.fit_transform(X_train_scaled, y_train)\n",
    "            X_test_selected = selector.transform(X_test_scaled)\n",
    "        elif isinstance(selector, RandomForestClassifier):\n",
    "            selector.fit(X_train_scaled, y_train)\n",
    "            feature_importances = selector.feature_importances_\n",
    "            top_features = np.argsort(feature_importances)[-max_features:]\n",
    "            X_train_selected = X_train_scaled[:, top_features]\n",
    "            X_test_selected = X_test_scaled[:, top_features]\n",
    "        elif selector_name == \"CorrelationBased\":\n",
    "            selected_features = selector(X_train_scaled, y_train)\n",
    "            X_train_selected = X_train_scaled[:, selected_features]\n",
    "            X_test_selected = X_test_scaled[:, selected_features]\n",
    "\n",
    "        for clf_name, clf in classifiers.items():\n",
    "            poly = PolynomialFeatures(degree=3, interaction_only=True)\n",
    "            X_train_poly = poly.fit_transform(X_train_selected)\n",
    "            X_test_poly = poly.transform(X_test_selected)\n",
    "            clf.fit(X_train_poly, y_train)\n",
    "\n",
    "            y_pred = clf.predict(X_test_poly)\n",
    "            y_prob = clf.predict_proba(X_test_poly) if hasattr(clf, \"predict_proba\") else None\n",
    "\n",
    "            eval_result = evaluatelog_result(y_test, y_pred, clf_name, logger, y_prob)\n",
    "            eval_result[\"Scaler\"] = scaler_name\n",
    "            eval_result[\"FeatureSelection\"] = selector_name\n",
    "            eval_result[\"Classifier\"] = clf_name\n",
    "            results.append(eval_result)\n",
    "\n",
    "results_df = pd.DataFrame(results)\n",
    "\n",
    "results_df.to_excel(\"no_kfold_poly.xlsx\", index=False)"
   ],
   "metadata": {
    "collapsed": false,
    "ExecuteTime": {
     "end_time": "2025-03-09T06:46:39.377730900Z",
     "start_time": "2025-03-09T06:45:54.956561Z"
    }
   },
   "id": "c5afdee71f4ed044"
  }
 ],
 "metadata": {
  "kernelspec": {
   "display_name": "Python 3",
   "language": "python",
   "name": "python3"
  },
  "language_info": {
   "codemirror_mode": {
    "name": "ipython",
    "version": 2
   },
   "file_extension": ".py",
   "mimetype": "text/x-python",
   "name": "python",
   "nbconvert_exporter": "python",
   "pygments_lexer": "ipython2",
   "version": "2.7.6"
  }
 },
 "nbformat": 4,
 "nbformat_minor": 5
}
