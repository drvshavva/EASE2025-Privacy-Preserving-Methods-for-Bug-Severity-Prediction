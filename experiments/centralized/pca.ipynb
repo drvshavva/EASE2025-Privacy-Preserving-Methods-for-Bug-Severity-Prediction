{
 "cells": [
  {
   "cell_type": "code",
   "execution_count": 1,
   "id": "initial_id",
   "metadata": {
    "collapsed": true,
    "ExecuteTime": {
     "end_time": "2025-03-02T07:03:58.749102300Z",
     "start_time": "2025-03-02T07:03:57.598863100Z"
    }
   },
   "outputs": [],
   "source": [
    "\n",
    "import pandas as pd\n",
    "from sklearn.feature_selection import SelectKBest, f_classif\n",
    "from sklearn.preprocessing import RobustScaler\n",
    "from xgboost import XGBClassifier\n",
    "\n",
    "from src.evalution import evaluatelog_result\n",
    "from src.logger import Logger"
   ]
  },
  {
   "cell_type": "code",
   "execution_count": 2,
   "outputs": [],
   "source": [
    "logger = Logger(log_filename=\"metrics.txt\")\n",
    "\n",
    "UNIQUE_LABELS = [0, 1, 2, 3]\n",
    "FEATURES = ['project_name', 'project_version', 'label', 'code', 'code_comment',\n",
    "            'code_no_comment', 'lc', 'pi', 'ma', 'nbd', 'ml', 'd', 'mi', 'fo', 'r',\n",
    "            'e']\n",
    "TRAIN_COLS = ['lc', 'pi', 'ma', 'nbd', 'ml', 'd', 'mi', 'fo', 'r', 'e']"
   ],
   "metadata": {
    "collapsed": false,
    "ExecuteTime": {
     "end_time": "2025-03-02T07:03:58.764732500Z",
     "start_time": "2025-03-02T07:03:58.749102300Z"
    }
   },
   "id": "857bc576343bd9d4"
  },
  {
   "cell_type": "code",
   "execution_count": 3,
   "outputs": [],
   "source": [
    "train = pd.read_csv(\"../../datasets/data/train.csv\")\n",
    "x_train = train[TRAIN_COLS]\n",
    "y_train = train[\"label\"]"
   ],
   "metadata": {
    "collapsed": false,
    "ExecuteTime": {
     "end_time": "2025-03-02T07:03:58.827256100Z",
     "start_time": "2025-03-02T07:03:58.764732500Z"
    }
   },
   "id": "fc31453a36e580b3"
  },
  {
   "cell_type": "code",
   "execution_count": 4,
   "outputs": [],
   "source": [
    "test = pd.read_csv(\"../../datasets/data/test.csv\")\n",
    "x_test = test[TRAIN_COLS]\n",
    "y_test = test[\"label\"]"
   ],
   "metadata": {
    "collapsed": false,
    "ExecuteTime": {
     "end_time": "2025-03-02T07:03:58.858824500Z",
     "start_time": "2025-03-02T07:03:58.827256100Z"
    }
   },
   "id": "8767efea536e9e27"
  },
  {
   "cell_type": "code",
   "execution_count": 8,
   "outputs": [
    {
     "name": "stderr",
     "output_type": "stream",
     "text": [
      "C:\\Users\\b3lab\\miniconda3\\envs\\Flower\\lib\\site-packages\\xgboost\\core.py:158: UserWarning: [10:11:39] WARNING: C:\\buildkite-agent\\builds\\buildkite-windows-cpu-autoscaling-group-i-08cbc0333d8d4aae1-1\\xgboost\\xgboost-ci-windows\\src\\learner.cc:740: \n",
      "Parameters: { \"use_label_encoder\" } are not used.\n",
      "\n",
      "  warnings.warn(smsg, UserWarning)\n",
      "C:\\Users\\b3lab\\miniconda3\\envs\\Flower\\lib\\site-packages\\xgboost\\core.py:158: UserWarning: [10:11:39] WARNING: C:\\buildkite-agent\\builds\\buildkite-windows-cpu-autoscaling-group-i-08cbc0333d8d4aae1-1\\xgboost\\xgboost-ci-windows\\src\\learner.cc:740: \n",
      "Parameters: { \"use_label_encoder\" } are not used.\n",
      "\n",
      "  warnings.warn(smsg, UserWarning)\n"
     ]
    }
   ],
   "source": [
    "from sklearn.decomposition import PCA\n",
    "\n",
    "scaler = RobustScaler()\n",
    "X_train_scaled = scaler.fit_transform(x_train)\n",
    "X_test_scaled = scaler.transform(x_test)\n",
    "\n",
    "k = 9\n",
    "selector = SelectKBest(score_func=f_classif, k=k)\n",
    "X_train_selected = selector.fit_transform(X_train_scaled, y_train)\n",
    "X_test_selected = selector.transform(X_test_scaled)\n",
    "\n",
    "model_no_pca = XGBClassifier(use_label_encoder=False, eval_metric='mlogloss', objective='multi:softprob', num_class=4,\n",
    "                             random_state=42)\n",
    "model_no_pca.fit(X_train_selected, y_train)\n",
    "\n",
    "y_pred_no_pca = model_no_pca.predict(X_test_selected)\n",
    "y_prob_no_pca = model_no_pca.predict_proba(X_test_selected) \n",
    "eval_results_no_pca = evaluatelog_result(y_test, y_pred_no_pca, \"XGBoost_No_PCA\", logger, y_prob_no_pca)\n",
    "\n",
    "n_components = 5\n",
    "pca = PCA(n_components=n_components)\n",
    "X_train_pca = pca.fit_transform(X_train_selected)\n",
    "X_test_pca = pca.transform(X_test_selected)\n",
    "\n",
    "model_pca = XGBClassifier(use_label_encoder=False, eval_metric='mlogloss', objective='multi:softprob', num_class=4,\n",
    "                          random_state=42)\n",
    "model_pca.fit(X_train_pca, y_train)\n",
    "\n",
    "y_pred_pca = model_pca.predict(X_test_pca)\n",
    "y_prob_pca = model_pca.predict_proba(X_test_pca)\n",
    "eval_results_pca = evaluatelog_result(y_test, y_pred_pca, \"XGBoost_PCA\", logger, y_prob_pca)\n",
    "\n",
    "eval_results_no_pca[\"PCA\"] = \"No\"\n",
    "eval_results_pca[\"PCA\"] = \"Yes\"\n",
    "results_df = pd.DataFrame([eval_results_no_pca, eval_results_pca])\n",
    "results_df.to_excel(\"xgboost_pca_comparison_results.xlsx\", index=False)"
   ],
   "metadata": {
    "collapsed": false,
    "ExecuteTime": {
     "end_time": "2025-03-02T07:11:40.210427200Z",
     "start_time": "2025-03-02T07:11:39.217421900Z"
    }
   },
   "id": "f77ab78596249ac9"
  },
  {
   "cell_type": "code",
   "execution_count": null,
   "outputs": [],
   "source": [],
   "metadata": {
    "collapsed": false
   },
   "id": "683352bd90d6f99a"
  }
 ],
 "metadata": {
  "kernelspec": {
   "display_name": "Python 3",
   "language": "python",
   "name": "python3"
  },
  "language_info": {
   "codemirror_mode": {
    "name": "ipython",
    "version": 2
   },
   "file_extension": ".py",
   "mimetype": "text/x-python",
   "name": "python",
   "nbconvert_exporter": "python",
   "pygments_lexer": "ipython2",
   "version": "2.7.6"
  }
 },
 "nbformat": 4,
 "nbformat_minor": 5
}
