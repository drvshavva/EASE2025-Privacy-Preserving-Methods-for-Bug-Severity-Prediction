{
 "cells": [
  {
   "cell_type": "code",
   "execution_count": 1,
   "id": "initial_id",
   "metadata": {
    "collapsed": true,
    "ExecuteTime": {
     "end_time": "2025-03-02T08:13:08.147207800Z",
     "start_time": "2025-03-02T08:13:05.816185300Z"
    }
   },
   "outputs": [],
   "source": [
    "import pandas as pd\n",
    "from imblearn.combine import SMOTETomek  # Hibrit yöntem\n",
    "from imblearn.over_sampling import SMOTE, RandomOverSampler\n",
    "from imblearn.under_sampling import RandomUnderSampler\n",
    "from sklearn.feature_selection import SelectKBest, f_classif\n",
    "from sklearn.preprocessing import RobustScaler\n",
    "from xgboost import XGBClassifier\n",
    "\n",
    "from src.evalution import evaluatelog_result\n",
    "from src.logger import Logger"
   ]
  },
  {
   "cell_type": "code",
   "execution_count": 2,
   "outputs": [],
   "source": [
    "logger = Logger(log_filename=\"metrics.txt\")\n",
    "\n",
    "UNIQUE_LABELS = [0, 1, 2, 3]\n",
    "FEATURES = ['project_name', 'project_version', 'label', 'code', 'code_comment',\n",
    "            'code_no_comment', 'lc', 'pi', 'ma', 'nbd', 'ml', 'd', 'mi', 'fo', 'r',\n",
    "            'e']\n",
    "TRAIN_COLS = ['lc', 'pi', 'ma', 'nbd', 'ml', 'd', 'mi', 'fo', 'r', 'e']"
   ],
   "metadata": {
    "collapsed": false,
    "ExecuteTime": {
     "end_time": "2025-03-02T08:13:08.147207800Z",
     "start_time": "2025-03-02T08:13:07.916566800Z"
    }
   },
   "id": "8ab393f012cb4c0d"
  },
  {
   "cell_type": "code",
   "execution_count": 3,
   "outputs": [],
   "source": [
    "train = pd.read_csv(\"../../datasets/data/train.csv\")\n",
    "x_train = train[TRAIN_COLS]\n",
    "y_train = train[\"label\"]"
   ],
   "metadata": {
    "collapsed": false,
    "ExecuteTime": {
     "end_time": "2025-03-02T08:13:08.147207800Z",
     "start_time": "2025-03-02T08:13:07.927574300Z"
    }
   },
   "id": "be151393ac926239"
  },
  {
   "cell_type": "code",
   "execution_count": 4,
   "outputs": [],
   "source": [
    "test = pd.read_csv(\"../../datasets/data/test.csv\")\n",
    "x_test = test[TRAIN_COLS]\n",
    "y_test = test[\"label\"]"
   ],
   "metadata": {
    "collapsed": false,
    "ExecuteTime": {
     "end_time": "2025-03-02T08:13:08.147207800Z",
     "start_time": "2025-03-02T08:13:08.021723700Z"
    }
   },
   "id": "ce6f173c6f5b5c06"
  },
  {
   "cell_type": "code",
   "execution_count": 5,
   "outputs": [
    {
     "name": "stderr",
     "output_type": "stream",
     "text": [
      "C:\\Users\\b3lab\\miniconda3\\envs\\Flower\\lib\\site-packages\\xgboost\\core.py:158: UserWarning: [11:13:08] WARNING: C:\\buildkite-agent\\builds\\buildkite-windows-cpu-autoscaling-group-i-08cbc0333d8d4aae1-1\\xgboost\\xgboost-ci-windows\\src\\learner.cc:740: \n",
      "Parameters: { \"use_label_encoder\" } are not used.\n",
      "\n",
      "  warnings.warn(smsg, UserWarning)\n",
      "C:\\Users\\b3lab\\miniconda3\\envs\\Flower\\lib\\site-packages\\sklearn\\utils\\deprecation.py:151: FutureWarning: 'force_all_finite' was renamed to 'ensure_all_finite' in 1.6 and will be removed in 1.8.\n",
      "  warnings.warn(\n",
      "C:\\Users\\b3lab\\miniconda3\\envs\\Flower\\lib\\site-packages\\sklearn\\base.py:484: FutureWarning: `BaseEstimator._check_n_features` is deprecated in 1.6 and will be removed in 1.7. Use `sklearn.utils.validation._check_n_features` instead.\n",
      "  warnings.warn(\n",
      "C:\\Users\\b3lab\\miniconda3\\envs\\Flower\\lib\\site-packages\\sklearn\\base.py:493: FutureWarning: `BaseEstimator._check_feature_names` is deprecated in 1.6 and will be removed in 1.7. Use `sklearn.utils.validation._check_feature_names` instead.\n",
      "  warnings.warn(\n",
      "C:\\Users\\b3lab\\miniconda3\\envs\\Flower\\lib\\site-packages\\xgboost\\core.py:158: UserWarning: [11:13:08] WARNING: C:\\buildkite-agent\\builds\\buildkite-windows-cpu-autoscaling-group-i-08cbc0333d8d4aae1-1\\xgboost\\xgboost-ci-windows\\src\\learner.cc:740: \n",
      "Parameters: { \"use_label_encoder\" } are not used.\n",
      "\n",
      "  warnings.warn(smsg, UserWarning)\n",
      "C:\\Users\\b3lab\\miniconda3\\envs\\Flower\\lib\\site-packages\\sklearn\\utils\\deprecation.py:151: FutureWarning: 'force_all_finite' was renamed to 'ensure_all_finite' in 1.6 and will be removed in 1.8.\n",
      "  warnings.warn(\n",
      "C:\\Users\\b3lab\\miniconda3\\envs\\Flower\\lib\\site-packages\\sklearn\\base.py:484: FutureWarning: `BaseEstimator._check_n_features` is deprecated in 1.6 and will be removed in 1.7. Use `sklearn.utils.validation._check_n_features` instead.\n",
      "  warnings.warn(\n",
      "C:\\Users\\b3lab\\miniconda3\\envs\\Flower\\lib\\site-packages\\sklearn\\base.py:493: FutureWarning: `BaseEstimator._check_feature_names` is deprecated in 1.6 and will be removed in 1.7. Use `sklearn.utils.validation._check_feature_names` instead.\n",
      "  warnings.warn(\n",
      "C:\\Users\\b3lab\\miniconda3\\envs\\Flower\\lib\\site-packages\\xgboost\\core.py:158: UserWarning: [11:13:09] WARNING: C:\\buildkite-agent\\builds\\buildkite-windows-cpu-autoscaling-group-i-08cbc0333d8d4aae1-1\\xgboost\\xgboost-ci-windows\\src\\learner.cc:740: \n",
      "Parameters: { \"use_label_encoder\" } are not used.\n",
      "\n",
      "  warnings.warn(smsg, UserWarning)\n",
      "C:\\Users\\b3lab\\miniconda3\\envs\\Flower\\lib\\site-packages\\sklearn\\base.py:474: FutureWarning: `BaseEstimator._validate_data` is deprecated in 1.6 and will be removed in 1.7. Use `sklearn.utils.validation.validate_data` instead. This function becomes public and is part of the scikit-learn developer API.\n",
      "  warnings.warn(\n",
      "C:\\Users\\b3lab\\miniconda3\\envs\\Flower\\lib\\site-packages\\xgboost\\core.py:158: UserWarning: [11:13:09] WARNING: C:\\buildkite-agent\\builds\\buildkite-windows-cpu-autoscaling-group-i-08cbc0333d8d4aae1-1\\xgboost\\xgboost-ci-windows\\src\\learner.cc:740: \n",
      "Parameters: { \"use_label_encoder\" } are not used.\n",
      "\n",
      "  warnings.warn(smsg, UserWarning)\n",
      "C:\\Users\\b3lab\\miniconda3\\envs\\Flower\\lib\\site-packages\\sklearn\\base.py:474: FutureWarning: `BaseEstimator._validate_data` is deprecated in 1.6 and will be removed in 1.7. Use `sklearn.utils.validation.validate_data` instead. This function becomes public and is part of the scikit-learn developer API.\n",
      "  warnings.warn(\n",
      "C:\\Users\\b3lab\\miniconda3\\envs\\Flower\\lib\\site-packages\\sklearn\\base.py:474: FutureWarning: `BaseEstimator._validate_data` is deprecated in 1.6 and will be removed in 1.7. Use `sklearn.utils.validation.validate_data` instead. This function becomes public and is part of the scikit-learn developer API.\n",
      "  warnings.warn(\n",
      "C:\\Users\\b3lab\\miniconda3\\envs\\Flower\\lib\\site-packages\\sklearn\\base.py:474: FutureWarning: `BaseEstimator._validate_data` is deprecated in 1.6 and will be removed in 1.7. Use `sklearn.utils.validation.validate_data` instead. This function becomes public and is part of the scikit-learn developer API.\n",
      "  warnings.warn(\n",
      "C:\\Users\\b3lab\\miniconda3\\envs\\Flower\\lib\\site-packages\\xgboost\\core.py:158: UserWarning: [11:13:10] WARNING: C:\\buildkite-agent\\builds\\buildkite-windows-cpu-autoscaling-group-i-08cbc0333d8d4aae1-1\\xgboost\\xgboost-ci-windows\\src\\learner.cc:740: \n",
      "Parameters: { \"use_label_encoder\" } are not used.\n",
      "\n",
      "  warnings.warn(smsg, UserWarning)\n"
     ]
    }
   ],
   "source": [
    "scaler = RobustScaler()\n",
    "X_train_scaled = scaler.fit_transform(x_train)\n",
    "X_test_scaled = scaler.transform(x_test)\n",
    "\n",
    "k = 9\n",
    "selector = SelectKBest(score_func=f_classif, k=k)\n",
    "X_train_selected = selector.fit_transform(X_train_scaled, y_train)\n",
    "X_test_selected = selector.transform(X_test_scaled)\n",
    "\n",
    "# Sampling Yöntemlerini Tanımla\n",
    "sampling_methods = {\n",
    "    \"No Sampling\": None,\n",
    "    \"Random Undersampling\": RandomUnderSampler(random_state=42),\n",
    "    \"Random Oversampling\": RandomOverSampler(random_state=42),\n",
    "    \"SMOTE\": SMOTE(random_state=42),\n",
    "    \"Hybrid (SMOTE + Undersampling)\": SMOTETomek(random_state=42)  # Hibrit yöntem\n",
    "}\n",
    "\n",
    "results = []\n",
    "\n",
    "for method_name, sampler in sampling_methods.items():\n",
    "    # Sampling işlemi uygulanacaksa\n",
    "    if sampler:\n",
    "        X_train_resampled, y_train_resampled = sampler.fit_resample(X_train_selected, y_train)\n",
    "    else:\n",
    "        X_train_resampled, y_train_resampled = X_train_selected, y_train  # Orijinal veri\n",
    "\n",
    "    model = XGBClassifier(use_label_encoder=False, eval_metric='mlogloss', objective='multi:softprob',\n",
    "                          num_class=4, random_state=42)\n",
    "    model.fit(X_train_resampled, y_train_resampled)\n",
    "\n",
    "    y_pred = model.predict(X_test_selected)\n",
    "    y_prob = model.predict_proba(X_test_selected)\n",
    "    eval_results = evaluatelog_result(y_test, y_pred, f\"XGBoost_{method_name}\", logger, y_prob)\n",
    "    eval_results[\"Sampling Method\"] = method_name\n",
    "\n",
    "    results.append(eval_results)\n",
    "\n",
    "results_df = pd.DataFrame(results)\n",
    "results_df.to_excel(\"xgboost_sampling_comparison_results.xlsx\", index=False)"
   ],
   "metadata": {
    "collapsed": false,
    "ExecuteTime": {
     "end_time": "2025-03-02T08:13:11.975461700Z",
     "start_time": "2025-03-02T08:13:08.052985400Z"
    }
   },
   "id": "94316db618694f27"
  }
 ],
 "metadata": {
  "kernelspec": {
   "display_name": "Python 3",
   "language": "python",
   "name": "python3"
  },
  "language_info": {
   "codemirror_mode": {
    "name": "ipython",
    "version": 2
   },
   "file_extension": ".py",
   "mimetype": "text/x-python",
   "name": "python",
   "nbconvert_exporter": "python",
   "pygments_lexer": "ipython2",
   "version": "2.7.6"
  }
 },
 "nbformat": 4,
 "nbformat_minor": 5
}
